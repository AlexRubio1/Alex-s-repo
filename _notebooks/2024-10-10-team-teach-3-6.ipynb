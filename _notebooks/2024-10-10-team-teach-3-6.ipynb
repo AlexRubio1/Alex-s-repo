{
 "cells": [
  {
   "cell_type": "raw",
   "metadata": {},
   "source": [
    "---\n",
    "layout: post\n",
    "title: Team Teach 3.6 Homework and Popcorn Hacks\n",
    "description: Showing how I was able to work and experiment with these.\n",
    "comments: true\n",
    "sticky_rank: 1\n",
    "---"
   ]
  },
  {
   "cell_type": "markdown",
   "metadata": {},
   "source": [
    "# 3.6 Team lesson Popcorn Hacks + Homework\n",
    "## Popcorn hack are in both python then javascript\n",
    "### Popcorn hack 1 based of Weather Conditional"
   ]
  },
  {
   "cell_type": "code",
   "execution_count": 1,
   "metadata": {},
   "outputs": [
    {
     "name": "stdout",
     "output_type": "stream",
     "text": [
      "It's a beautiful day! Don't forget your sunglasses.\n"
     ]
    }
   ],
   "source": [
    "weather = \"sunny\"  # You can change this value to test different conditions\n",
    "\n",
    "if weather == \"sunny\":\n",
    "    print(\"It's a beautiful day! Don't forget your sunglasses.\")\n",
    "else:\n",
    "    print(\"You might want to take an umbrella just in case.\")\n"
   ]
  },
  {
   "cell_type": "code",
   "execution_count": 4,
   "metadata": {
    "vscode": {
     "languageId": "javascript"
    }
   },
   "outputs": [
    {
     "data": {
      "application/javascript": "let weather = \"sunny\";\n\nif (weather === \"sunny\") {\n    console.log(\"It's a beautiful day! Don't forget your sunglasses.\");\n} else {\n    console.log(\"You might want to take an umbrella just in case.\");\n}\n",
      "text/plain": [
       "<IPython.core.display.Javascript object>"
      ]
     },
     "metadata": {},
     "output_type": "display_data"
    }
   ],
   "source": [
    "%%js\n",
    "let weather = \"sunny\";\n",
    "\n",
    "if (weather === \"sunny\") {\n",
    "    console.log(\"It's a beautiful day! Don't forget your sunglasses.\");\n",
    "} else {\n",
    "    console.log(\"You might want to take an umbrella just in case.\");\n",
    "}\n"
   ]
  },
  {
   "cell_type": "markdown",
   "metadata": {},
   "source": [
    "### Popcorn Hack 2 based off rain"
   ]
  },
  {
   "cell_type": "code",
   "execution_count": 7,
   "metadata": {},
   "outputs": [
    {
     "name": "stdout",
     "output_type": "stream",
     "text": [
      "Don't forget your umbrella!\n"
     ]
    }
   ],
   "source": [
    "is_raining = True \n",
    "\n",
    "if is_raining:\n",
    "    print(\"Don't forget your umbrella!\")\n",
    "else:\n",
    "    print(\"Enjoy the sunshine!\")"
   ]
  },
  {
   "cell_type": "code",
   "execution_count": null,
   "metadata": {
    "vscode": {
     "languageId": "javascript"
    }
   },
   "outputs": [],
   "source": [
    "%%js\n",
    "let isRaining = true;\n",
    "\n",
    "if (isRaining) {\n",
    "    console.log(\"Don't forget your umbrella!\");\n",
    "} else {\n",
    "    console.log(\"Enjoy the sunshine!\");\n",
    "}\n"
   ]
  },
  {
   "cell_type": "markdown",
   "metadata": {},
   "source": [
    "### Popcorn Hack 3\n",
    "#### Importing math basing it off if it's a perfect square or not"
   ]
  },
  {
   "cell_type": "code",
   "execution_count": 10,
   "metadata": {},
   "outputs": [
    {
     "name": "stdout",
     "output_type": "stream",
     "text": [
      "25 is a perfect square.\n"
     ]
    }
   ],
   "source": [
    "import math\n",
    "\n",
    "number = 25\n",
    "\n",
    "if math.sqrt(number).is_integer():\n",
    "    print(f\"{number} is a perfect square.\")\n",
    "else:\n",
    "    print(f\"{number} is not a perfect square.\")\n"
   ]
  },
  {
   "cell_type": "code",
   "execution_count": 8,
   "metadata": {
    "vscode": {
     "languageId": "javascript"
    }
   },
   "outputs": [
    {
     "data": {
      "application/javascript": "const math = require('mathjs');\n\nlet number = 25;\n\nif (math.isPrime(number)) {\n    console.log(`${number} is a prime number.`);\n} else {\n    console.log(`${number} is not a prime number.`);\n}\n",
      "text/plain": [
       "<IPython.core.display.Javascript object>"
      ]
     },
     "metadata": {},
     "output_type": "display_data"
    }
   ],
   "source": [
    "%%js\n",
    "const math = require('mathjs');\n",
    "\n",
    "let number = 25;\n",
    "\n",
    "if (math.isPrime(number)) {\n",
    "    console.log(`${number} is a prime number.`);\n",
    "} else {\n",
    "    console.log(`${number} is not a prime number.`);\n",
    "}\n"
   ]
  },
  {
   "cell_type": "markdown",
   "metadata": {},
   "source": [
    "### Popcorn Hack #1: General Conditional Statements\n",
    "**Task**: Write a general conditional based on a topic of your choice using `if` and `else` statements.  \n",
    "**Objective**: Reinforce fundamental programming concepts related to decision-making and logic by controlling the flow of the program based on specified conditions.\n",
    "\n",
    "---\n",
    "\n",
    "### Popcorn Hack #2: Boolean Value Check\n",
    "**Criteria**: \n",
    "- Use a boolean value to check in a conditional.\n",
    "- Set an original value for the boolean variable as input.\n",
    "- Create a conditional using the boolean variable to check if it's true or false.  \n",
    "**Objective**: Gain a deeper understanding of how conditions work and how to handle true/false scenarios effectively in your code.\n",
    "\n",
    "---\n",
    "\n",
    "### Popcorn Hack #3: Using a Library with Conditionals\n",
    "**Task**: Import any library of your choice and practice your skills with conditionals.  \n",
    "**Criteria**: Use a conditional statement utilizing the library you imported.  \n",
    "**Objective**: Promote creativity and problem-solving while exploring how external libraries can enhance functionality. Gain experience in leveraging additional resources to build more complex applications by applying conditionals with library methods.\n",
    "\n",
    "---\n"
   ]
  },
  {
   "cell_type": "markdown",
   "metadata": {},
   "source": [
    "## Homework Hack 1 Based off dogs"
   ]
  },
  {
   "cell_type": "code",
   "execution_count": 11,
   "metadata": {},
   "outputs": [
    {
     "name": "stdout",
     "output_type": "stream",
     "text": [
      "What breed is known as the 'King of Terriers'?\n",
      "1. Airedale\n",
      "2. Bulldog\n",
      "3. Beagle\n",
      "4. Poodle\n",
      "Wrong! The correct answer was: Airedale\n",
      "\n",
      "Which dog breed is the smallest?\n",
      "1. Chihuahua\n",
      "2. Pomeranian\n",
      "3. Yorkshire Terrier\n",
      "4. Dachshund\n",
      "Correct!\n",
      "\n",
      "What breed is known for its blue-black tongue?\n",
      "1. Dalmatian\n",
      "2. Shar Pei\n",
      "3. Chow Chow\n",
      "4. Akita\n",
      "Correct!\n",
      "\n",
      "Which dog breed is often used as a guide dog for the blind?\n",
      "1. Labrador Retriever\n",
      "2. Golden Retriever\n",
      "3. German Shepherd\n",
      "4. All of the above\n",
      "Wrong! The correct answer was: All of the above\n",
      "\n",
      "What is the largest dog breed?\n",
      "1. Great Dane\n",
      "2. Mastiff\n",
      "3. St. Bernard\n",
      "4. Irish Wolfhound\n",
      "Wrong! The correct answer was: Mastiff\n",
      "\n"
     ]
    }
   ],
   "source": [
    "def ask_question(question, options, answer):\n",
    "    print(question)\n",
    "    for i, option in enumerate(options):\n",
    "        print(f\"{i + 1}. {option}\")\n",
    "    \n",
    "    user_answer = input(\"Your answer (1-4): \")\n",
    "    if options[int(user_answer) - 1].lower() == answer.lower():\n",
    "        print(\"Correct!\\n\")\n",
    "    else:\n",
    "        print(f\"Wrong! The correct answer was: {answer}\\n\")\n",
    "\n",
    "def dog_quiz():\n",
    "    questions = [\n",
    "        {\n",
    "            \"question\": \"What breed is known as the 'King of Terriers'?\",\n",
    "            \"options\": [\"Airedale\", \"Bulldog\", \"Beagle\", \"Poodle\"],\n",
    "            \"answer\": \"Airedale\"\n",
    "        },\n",
    "        {\n",
    "            \"question\": \"Which dog breed is the smallest?\",\n",
    "            \"options\": [\"Chihuahua\", \"Pomeranian\", \"Yorkshire Terrier\", \"Dachshund\"],\n",
    "            \"answer\": \"Chihuahua\"\n",
    "        },\n",
    "        {\n",
    "            \"question\": \"What breed is known for its blue-black tongue?\",\n",
    "            \"options\": [\"Dalmatian\", \"Shar Pei\", \"Chow Chow\", \"Akita\"],\n",
    "            \"answer\": \"Chow Chow\"\n",
    "        },\n",
    "        {\n",
    "            \"question\": \"Which dog breed is often used as a guide dog for the blind?\",\n",
    "            \"options\": [\"Labrador Retriever\", \"Golden Retriever\", \"German Shepherd\", \"All of the above\"],\n",
    "            \"answer\": \"All of the above\"\n",
    "        },\n",
    "        {\n",
    "            \"question\": \"What is the largest dog breed?\",\n",
    "            \"options\": [\"Great Dane\", \"Mastiff\", \"St. Bernard\", \"Irish Wolfhound\"],\n",
    "            \"answer\": \"Mastiff\"\n",
    "        },\n",
    "    ]\n",
    "\n",
    "    for q in questions:\n",
    "        ask_question(q[\"question\"], q[\"options\"], q[\"answer\"])\n",
    "\n",
    "if __name__ == \"__main__\":\n",
    "    dog_quiz()\n"
   ]
  },
  {
   "cell_type": "markdown",
   "metadata": {},
   "source": [
    "### Brief Explanation of the Dog Quiz Code\n",
    "\n",
    "1. **ask_question Function**: \n",
    "   - Displays a question and its multiple-choice options.\n",
    "   - Takes user input to select an answer.\n",
    "   - Compares the user's answer to the correct answer and provides feedback.\n",
    "\n",
    "2. **dog_quiz Function**: \n",
    "   - Contains a list of dictionaries, each representing a quiz question, options, and the correct answer.\n",
    "   - Iterates through the list, calling `ask_question` for each question.\n",
    "\n",
    "3. **Main Execution**: \n",
    "   - The `if __name__ == \"__main__\":` block ensures that the `dog_quiz` function runs when the script is executed.\n"
   ]
  },
  {
   "cell_type": "markdown",
   "metadata": {},
   "source": [
    "<style>\n",
    "    body {\n",
    "        background-color: #2e3440;  /* Dark background */\n",
    "        color: white;               /* White text */\n",
    "    }\n",
    "    \n",
    "    div.code_cell {\n",
    "        background-color: #282a36;  /* Dark theme for code cells */\n",
    "        color: white;               /* White text for code cells */\n",
    "        border-radius: 10px;\n",
    "        padding: 10px;\n",
    "    }\n",
    "    \n",
    "    div.markdown_cell {\n",
    "        background-color: #44475a;  /* Dark theme for markdown cells */\n",
    "        color: white;               /* White text for markdown cells */\n",
    "        border-radius: 10px;\n",
    "        padding: 10px;\n",
    "    }\n",
    "    </style>"
   ]
  }
 ],
 "metadata": {
  "kernelspec": {
   "display_name": "venv",
   "language": "python",
   "name": "python3"
  },
  "language_info": {
   "codemirror_mode": {
    "name": "ipython",
    "version": 3
   },
   "file_extension": ".py",
   "mimetype": "text/x-python",
   "name": "python",
   "nbconvert_exporter": "python",
   "pygments_lexer": "ipython3",
   "version": "3.12.7"
  }
 },
 "nbformat": 4,
 "nbformat_minor": 2
}
