{
 "cells": [
  {
   "cell_type": "raw",
   "metadata": {},
   "source": [
    "---\n",
    "layout: post\n",
    "title: mcq revision\n",
    "description: every question I got wrong\n",
    "courses: { csp: {week:1} }\n",
    "comments: true\n",
    "sticky_rank: 1\n",
    "---"
   ]
  },
  {
   "cell_type": "markdown",
   "metadata": {},
   "source": [
    "# My Score on my MCQ\n",
    "\n",
    "My full score on my MCQ test, some of the questions were difficult and I had to take a more increased time on them, some I thought they were easy to I didn't take as much for them.\n",
    "\n",
    "<img width=\"800\" alt=\"Screenshot 2024-11-20 at 11 24 18 AM\" src=\"https://github.com/user-attachments/assets/4eafc96a-9b5d-4dbb-a1cc-94bf95ea7c16\">\n",
    "\n",
    "\n",
    "---\n",
    "\n",
    "## Revising the questions\n",
    "### Question 1\n",
    "\n",
    "<img width=\"500\" alt=\"Screenshot 2024-11-20 at 11 31 19 AM\" src=\"https://github.com/user-attachments/assets/7ef82c0a-de2e-43c8-8e41-f58298794fba\">\n",
    "\n",
    "- The answer (A) I chose was wrong because, the code segment assigns the initial value of first to temp, then assigns the initial value of second to first. The initial value of second, which has been stored in first, is then assigned to second. Therefore, the value of second has not changed from its initial value.\n",
    "- looking back answer (B) would have been the correct option, the code segment assigns the initial value of first to temp, then assigns the initial value of second to first. The initial value of first, which has been stored in temp, is then assigned to second. Therefore, the initial values of first and second have been interchanged.\n",
    "---\n",
    "### Question 7\n",
    "\n",
    "<img width=\"500\" alt=\"Screenshot 2024-11-20 at 11 37 10 AM\" src=\"https://github.com/user-attachments/assets/1c9cbe3d-703e-4a96-8862-e649a861d8d7\">\n",
    "\n",
    "\n",
    "- The answer I chose (A) was wrong because the values 1 and 3 are the original values of start and current, not the final values.\n",
    "- Revising I didnt read the question through, the code segment initially sets start to 1, end to 20, and current to 3. Next, the code segment sets start to the value of current, which is 3. Then current is increased from 3 to 4. The final values of start and current are 3 and 4, respectively. Only when you use 3 and 4\n",
    "---\n",
    "### Question 9\n",
    "\n",
    "\n",
    "<img width=\"500\" alt=\"Screenshot 2024-11-20 at 11 45 19 AM\" src=\"https://github.com/user-attachments/assets/27ddb1cf-b702-4c69-9666-1c2c607aa9f8\">\n",
    "\n",
    "- The answer I chose was (A) saying, it allows programmers to implement algorithmic solutions to otherwise unsolvable problems. This would be incorrect, unsolvable problems cannot be solved with an algorithm. because I thought that the new \n",
    "- Reading the question further I shouldve chosen answer (D) , it incrementally adding code segments to correct, working programs can help programmers identify new errors that are introduced.\n",
    "---"
   ]
  }
 ],
 "metadata": {
  "language_info": {
   "name": "python"
  }
 },
 "nbformat": 4,
 "nbformat_minor": 2
}
