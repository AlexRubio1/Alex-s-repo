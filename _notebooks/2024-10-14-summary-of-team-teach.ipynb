{
 "cells": [
  {
   "cell_type": "raw",
   "metadata": {},
   "source": [
    "---\n",
    "layout: post\n",
    "title: Blog for homework \n",
    "description: Navigation to get from homework to homework and summary\n",
    "courses: { csp: {week:1} }\n",
    "comments: true\n",
    "sticky_rank: 1\n",
    "---"
   ]
  },
  {
   "cell_type": "code",
   "execution_count": 1,
   "metadata": {
    "vscode": {
     "languageId": "html"
    }
   },
   "outputs": [
    {
     "ename": "SyntaxError",
     "evalue": "invalid decimal literal (652662696.py, line 13)",
     "output_type": "error",
     "traceback": [
      "\u001b[0;36m  Cell \u001b[0;32mIn[1], line 13\u001b[0;36m\u001b[0m\n\u001b[0;31m    border: 1px solid black;\u001b[0m\n\u001b[0m            ^\u001b[0m\n\u001b[0;31mSyntaxError\u001b[0m\u001b[0;31m:\u001b[0m invalid decimal literal\n"
     ]
    }
   ],
   "source": [
    "<!DOCTYPE html>\n",
    "<html lang=\"en\">\n",
    "<head>\n",
    "    <meta charset=\"UTF-8\">\n",
    "    <meta name=\"viewport\" content=\"width=device-width, initial-scale=1.0\">\n",
    "    <title>Expandable Horizontal Table Example</title>\n",
    "    <style>\n",
    "        table {\n",
    "            width: 100%;\n",
    "            border-collapse: collapse;\n",
    "        }\n",
    "        table, th, td {\n",
    "            border: 1px solid black;\n",
    "        }\n",
    "        th, td {\n",
    "            padding: 10px;\n",
    "            text-align: left;\n",
    "        }\n",
    "        .expandable-column {\n",
    "            display: none;\n",
    "        }\n",
    "        .expand-btn {\n",
    "            cursor: pointer;\n",
    "            background-color: #f2f2f2;\n",
    "        }\n",
    "    </style>\n",
    "</head>\n",
    "<body>\n",
    "\n",
    "<h2>Expandable Horizontal Table</h2>\n",
    "\n",
    "<table>\n",
    "    <thead>\n",
    "        <tr>\n",
    "            <th class=\"expand-btn\" onclick=\"toggleColumns(this)\">+</th>\n",
    "            <th>Name</th>\n",
    "            <th>Age</th>\n",
    "            <th>Occupation</th>\n",
    "            <th class=\"expandable-column\">Hobbies</th>\n",
    "            <th class=\"expandable-column\">Location</th>\n",
    "        </tr>\n",
    "    </thead>\n",
    "    <tbody>\n",
    "        <tr>\n",
    "            <td class=\"expand-btn\" onclick=\"toggleColumns(this)\">+</td>\n",
    "            <td>John Doe</td>\n",
    "            <td>28</td>\n",
    "            <td>Software Developer</td>\n",
    "            <td class=\"expandable-column\">Coding, Hiking</td>\n",
    "            <td class=\"expandable-column\">New York</td>\n",
    "        </tr>\n",
    "        <tr>\n",
    "            <td class=\"expand-btn\" onclick=\"toggleColumns(this)\">+</td>\n",
    "            <td>Jane Smith</td>\n",
    "            <td>32</td>\n",
    "            <td>Graphic Designer</td>\n",
    "            <td class=\"expandable-column\">Painting, Traveling</td>\n",
    "            <td class=\"expandable-column\">San Francisco</td>\n",
    "        </tr>\n",
    "    </tbody>\n",
    "</table>\n",
    "\n",
    "<script>\n",
    "    function toggleColumns(button) {\n",
    "        const expandableColumns = document.querySelectorAll('.expandable-column');\n",
    "        let isExpanded = Array.from(expandableColumns).some(col => col.style.display === \"table-cell\");\n",
    "\n",
    "        if (isExpanded) {\n",
    "            expandableColumns.forEach(col => col.style.display = \"none\");\n",
    "            button.textContent = \"+\";\n",
    "        } else {\n",
    "            expandableColumns.forEach(col => col.style.display = \"table-cell\");\n",
    "            button.textContent = \"-\";\n",
    "        }\n",
    "    }\n",
    "</script>\n",
    "\n",
    "</body>\n",
    "</html>\n"
   ]
  }
 ],
 "metadata": {
  "kernelspec": {
   "display_name": "venv",
   "language": "python",
   "name": "python3"
  },
  "language_info": {
   "codemirror_mode": {
    "name": "ipython",
    "version": 3
   },
   "file_extension": ".py",
   "mimetype": "text/x-python",
   "name": "python",
   "nbconvert_exporter": "python",
   "pygments_lexer": "ipython3",
   "version": "3.12.7"
  }
 },
 "nbformat": 4,
 "nbformat_minor": 2
}
