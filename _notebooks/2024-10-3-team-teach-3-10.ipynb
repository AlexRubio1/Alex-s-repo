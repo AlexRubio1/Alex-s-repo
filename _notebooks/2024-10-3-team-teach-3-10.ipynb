{
 "cells": [
  {
   "cell_type": "raw",
   "metadata": {},
   "source": [
    "---\n",
    "layout: post\n",
    "title: Team Teach 3.10 Homework and Popcorn Hacks\n",
    "description: Showing how I was able to work and experiment with these.\n",
    "courses: { csp: {week:1} }\n",
    "comments: true\n",
    "sticky_rank: 1\n",
    "---"
   ]
  },
  {
   "cell_type": "markdown",
   "metadata": {},
   "source": [
    "## Team Teach 3.10 Popcorn hacks\n",
    "### 3.10.1 popcorn hacks"
   ]
  },
  {
   "cell_type": "code",
   "execution_count": 1,
   "metadata": {},
   "outputs": [
    {
     "name": "stdout",
     "output_type": "stream",
     "text": [
      "Adding Numbers In List Script\n",
      "-------------------------\n",
      "Added 1 to list.\n"
     ]
    }
   ],
   "source": [
    "print(\"Adding Numbers In List Script\")\n",
    "print(\"-\"*25)\n",
    "numlist = []\n",
    "while True:\n",
    "    start = input(\"Would you like to (1) enter numbers (2) add numbers (3) remove last value added or (4) exit: \")\n",
    "    if start == \"1\":\n",
    "        val = input(\"Enter a numeric value: \") # take input while storing it in a variable\n",
    "        try: \n",
    "            test = int(val) # testing to see if input is an integer (numeric)\n",
    "        except:\n",
    "            print(\"Please enter a valid number\")\n",
    "            continue # 'continue' keyword skips to next step of while loop (basically restarting the loop)\n",
    "        numlist.append(int(val)) # append method to add values\n",
    "        print(\"Added \"+val+\" to list.\")\n",
    "    elif start == \"2\":\n",
    "        sum = 0\n",
    "        for num in numlist: # loop through list and add all values to sum variable\n",
    "            sum += num\n",
    "        print(\"Sum of numbers in list is \"+str(sum))\n",
    "    elif start == \"3\":\n",
    "        if len(numlist) > 0: # Make sure there are values in list to remove\n",
    "            print(\"Removed \"+str(numlist[len(numlist)-1])+\" from list.\")\n",
    "            numlist.pop()\n",
    "        else:\n",
    "            print(\"No values to delete\")\n",
    "    elif start == \"4\":\n",
    "        break # Break out of the while loop, or it will continue running forever\n",
    "    else:\n",
    "        continue\n"
   ]
  },
  {
   "cell_type": "markdown",
   "metadata": {},
   "source": [
    "## Homework for 3.10.1"
   ]
  },
  {
   "cell_type": "code",
   "execution_count": 14,
   "metadata": {},
   "outputs": [
    {
     "name": "stdout",
     "output_type": "stream",
     "text": [
      "Current list: ['apple', 42, 3.14, True, 'banana']\n",
      "Item '42' at index 1 has been removed.\n",
      "Updated list: ['apple', 3.14, True, 'banana']\n"
     ]
    }
   ],
   "source": [
    "# Starting list with various data types\n",
    "mylist = [\"apple\", 42, 3.14, True, \"banana\"]\n",
    "\n",
    "# Display the list to the user\n",
    "print(\"Current list:\", mylist)\n",
    "\n",
    "# Ask user for input\n",
    "index = int(input(\"Enter an index number to remove an item: \"))\n",
    "\n",
    "# Check if the index is valid\n",
    "if 0 <= index < len(mylist):\n",
    "    removed_item = mylist.pop(index)  # Remove the item at the given index\n",
    "    print(f\"Item '{removed_item}' at index {index} has been removed.\")\n",
    "else:\n",
    "    print(\"Invalid index. Please enter a valid number between 0 and\", len(mylist) - 1)\n",
    "\n",
    "# Display the updated list\n",
    "print(\"Updated list:\", mylist)\n"
   ]
  },
  {
   "cell_type": "markdown",
   "metadata": {},
   "source": [
    "### 3.10.2 Popcorn hack"
   ]
  },
  {
   "cell_type": "code",
   "execution_count": 2,
   "metadata": {},
   "outputs": [
    {
     "name": "stdout",
     "output_type": "stream",
     "text": [
      "\u001b[92mMaximum number: 9\u001b[0m\n",
      "\u001b[92mMinimum number: 1\u001b[0m\n"
     ]
    }
   ],
   "source": [
    "def find_max_min(numbers):\n",
    "    if not numbers:\n",
    "        return None, None  # <span style=\"color: #D9B68C;\">Return None if the list is empty</span>\n",
    "    \n",
    "    max_num = numbers[0]  # <span style=\"color: #D9B68C;\">Start with the first number as the max</span>\n",
    "    min_num = numbers[0]  # <span style=\"color: #D9B68C;\">Start with the first number as the min</span>\n",
    "    \n",
    "    for num in numbers:\n",
    "        if num > max_num:\n",
    "            max_num = num  # <span style=\"color: #D9B68C;\">Update max if a larger number is found</span>\n",
    "        if num < min_num:\n",
    "            min_num = num  # <span style=\"color: #D9B68C;\">Update min if a smaller number is found</span>\n",
    "            \n",
    "    return max_num, min_num  # <span style=\"color: #D9B68C;\">Return the found max and min</span>\n",
    "\n",
    "# Example usage\n",
    "numbers = [3, 1, 4, 1, 5, 9, 2, 6, 5, 3, 5]\n",
    "max_num, min_num = find_max_min(numbers)\n",
    "\n",
    "print(f\"\\033[92mMaximum number: {max_num}\\033[0m\")  # Bright green for output\n",
    "print(f\"\\033[92mMinimum number: {min_num}\\033[0m\")  # Bright green for output\n"
   ]
  },
  {
   "cell_type": "markdown",
   "metadata": {},
   "source": [
    "## Homework 3.10.2 "
   ]
  },
  {
   "cell_type": "code",
   "execution_count": null,
   "metadata": {},
   "outputs": [],
   "source": [
    "%%js\n",
    "1. Initialize a list of 30 numbers\n",
    "2. Initialize a variable sum_even to 0\n",
    "3. Initialize a variable sum_odd to 0\n",
    "4. Loop through each number in the list\n",
    "    a. If the number is even (number % 2 == 0)\n",
    "        i. Add the number to sum_even\n",
    "    b. Else (the number is odd)\n",
    "        i. Add the number to sum_odd\n",
    "5. Print sum_even\n",
    "6. Print sum_odd"
   ]
  },
  {
   "cell_type": "code",
   "execution_count": 15,
   "metadata": {},
   "outputs": [
    {
     "name": "stdout",
     "output_type": "stream",
     "text": [
      "Sum of even numbers: 240\n",
      "Sum of odd numbers: 225\n"
     ]
    }
   ],
   "source": [
    "# Step 1: Initialize a list of 30 numbers\n",
    "numbers = [1, 2, 3, 4, 5, 6, 7, 8, 9, 10, 11, 12, 13, 14, 15, \n",
    "           16, 17, 18, 19, 20, 21, 22, 23, 24, 25, 26, 27, 28, 29, 30]\n",
    "\n",
    "# Step 2 and 3: Initialize sum_even and sum_odd to 0\n",
    "sum_even = 0\n",
    "sum_odd = 0\n",
    "\n",
    "# Step 4: Loop through each number in the list\n",
    "for number in numbers:\n",
    "    if number % 2 == 0:  # Step 4a: Check if the number is even\n",
    "        sum_even += number  # Add the number to sum_even\n",
    "    else:  # Step 4b: If the number is odd\n",
    "        sum_odd += number  # Add the number to sum_odd\n",
    "\n",
    "# Step 5 and 6: Print the sums\n",
    "print(\"Sum of even numbers:\", sum_even)\n",
    "print(\"Sum of odd numbers:\", sum_odd)\n"
   ]
  },
  {
   "cell_type": "code",
   "execution_count": 11,
   "metadata": {},
   "outputs": [
    {
     "name": "stdout",
     "output_type": "stream",
     "text": [
      "arshia with Arhaan\n"
     ]
    }
   ],
   "source": [
    "import random\n",
    "\n",
    "# Define main dishes and sides\n",
    "main_dishes = ['Spaghetti', 'Tacos', 'Grilled Chicken', 'Stir Fry']\n",
    "sides = ['Salad', 'Rice', 'Garlic Bread', 'Steamed Vegetables']\n",
    "\n",
    "# Create meal combinations using list comprehension\n",
    "meal_combinations = [f\"{main} with {side}\" for main in main_dishes for side in sides]\n",
    "\n",
    "# Print a random meal combination\n",
    "print(random.choice(meal_combinations))"
   ]
  },
  {
   "cell_type": "markdown",
   "metadata": {},
   "source": [
    "### 3.10.4"
   ]
  },
  {
   "cell_type": "code",
   "execution_count": 13,
   "metadata": {},
   "outputs": [
    {
     "name": "stdout",
     "output_type": "stream",
     "text": [
      "\n",
      "Current List of People:\n",
      "Person 1: Alex, 15 years old, a student\n"
     ]
    }
   ],
   "source": [
    "# Define a list to hold user information\n",
    "people = []\n",
    "\n",
    "# Function to collect user input and create a person object\n",
    "def add_person():\n",
    "    name = input(\"What is your name? \")\n",
    "    age = input(\"How old are you? \")\n",
    "    gender = input(\"what's you gender?\")\n",
    "    shoesize = input(\"what's your shoe size?\")\n",
    "    \n",
    "    # Simple Yes/No question for student status\n",
    "    while True:\n",
    "        is_student = input(\"Are you a student? (yes/no): \").lower()\n",
    "        if is_student in [\"yes\", \"no\"]:\n",
    "            is_student = (is_student == \"yes\")  # Converts to Boolean\n",
    "            break\n",
    "        else:\n",
    "            print(\"Please enter 'yes' or 'no'.\")\n",
    "\n",
    "    # Create the person object\n",
    "    person = {\n",
    "        'name': name,\n",
    "        'age': age,\n",
    "        'is_student': is_student\n",
    "    }\n",
    "    \n",
    "    # Add the person to the list\n",
    "    people.append(person)\n",
    "\n",
    "    # Display the added person\n",
    "    display_people()\n",
    "\n",
    "# Function to display the list of people\n",
    "def display_people():\n",
    "    print(\"\\nCurrent List of People:\")\n",
    "    for index, person in enumerate(people, 1):\n",
    "        student_status = \"a student\" if person['is_student'] else \"not a student\"\n",
    "        print(f\"Person {index}: {person['name']}, {person['age']} years old, {student_status}\")\n",
    "\n",
    "# Example Usage\n",
    "add_person()  # Call this to start collecting input from the user\n",
    "\n"
   ]
  }
 ],
 "metadata": {
  "kernelspec": {
   "display_name": "venv",
   "language": "python",
   "name": "python3"
  },
  "language_info": {
   "codemirror_mode": {
    "name": "ipython",
    "version": 3
   },
   "file_extension": ".py",
   "mimetype": "text/x-python",
   "name": "python",
   "nbconvert_exporter": "python",
   "pygments_lexer": "ipython3",
   "version": "3.12.5"
  }
 },
 "nbformat": 4,
 "nbformat_minor": 2
}
