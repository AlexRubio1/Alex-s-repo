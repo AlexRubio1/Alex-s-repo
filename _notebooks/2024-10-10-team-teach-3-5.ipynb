{
 "cells": [
  {
   "cell_type": "raw",
   "metadata": {},
   "source": [
    "---\n",
    "layout: post\n",
    "title: Team Teach 3.5 Homework and Popcorn Hacks\n",
    "description: Showing how I was able to work and experiment with these.\n",
    "courses: { csp: {week:1} }\n",
    "comments: true\n",
    "sticky_rank: 1\n",
    "---"
   ]
  },
  {
   "cell_type": "markdown",
   "metadata": {},
   "source": [
    "# 3.5 Team lesson Popcorn Hacks + Homework\n",
    "## Popcorn hack are in both python first then javascript"
   ]
  },
  {
   "cell_type": "markdown",
   "metadata": {},
   "source": [
    "# Contrapositive Law in Logic and Programming/ Popcorn Hack 1\n",
    "\n",
    "The **Contrapositive Law** states that if a statement \"If A, then B\" is true, its contrapositive \"If not B, then not A\" is also true. This principle is fundamental in programming as it helps ensure logical consistency and robustness in code.\n",
    "\n",
    "## Python Code Example\n",
    "\n",
    "Here's how the Contrapositive Law can be applied in Python:"
   ]
  },
  {
   "cell_type": "code",
   "execution_count": 4,
   "metadata": {},
   "outputs": [
    {
     "name": "stdout",
     "output_type": "stream",
     "text": [
      "A is true, so B must also be true: True\n",
      "B is true, we cannot conclude anything about A.\n"
     ]
    }
   ],
   "source": [
    "def A():\n",
    "    return True  # Condition A\n",
    "\n",
    "def B():\n",
    "    return True  # Condition B\n",
    "\n",
    "# Original statement: if A then B\n",
    "if A():\n",
    "    print(\"A is true, so B must also be true:\", B())\n",
    "else:\n",
    "    print(\"A is false, we cannot conclude anything about B.\")\n",
    "\n",
    "# Contrapositive: if not B then not A\n",
    "if not B():\n",
    "    print(\"B is false, therefore A must also be false:\", not A())\n",
    "else:\n",
    "    print(\"B is true, we cannot conclude anything about A.\")\n"
   ]
  },
  {
   "cell_type": "markdown",
   "metadata": {},
   "source": [
    "# JavaScript Example"
   ]
  },
  {
   "cell_type": "code",
   "execution_count": 5,
   "metadata": {
    "vscode": {
     "languageId": "javascript"
    }
   },
   "outputs": [
    {
     "data": {
      "application/javascript": "function A() {\n    return true;  // Condition A\n}\n\nfunction B() {\n    return true;  // Condition B\n}\n\n// Original statement: if A then B\nif (A()) {\n    console.log(\"A is true, so B must also be true:\", B());\n} else {\n    console.log(\"A is false, we cannot conclude anything about B.\");\n}\n\n// Contrapositive: if not B then not A\nif (!B()) {\n    console.log(\"B is false, therefore A must also be false:\", !A());\n} else {\n    console.log(\"B is true, we cannot conclude anything about A.\");\n}\n",
      "text/plain": [
       "<IPython.core.display.Javascript object>"
      ]
     },
     "metadata": {},
     "output_type": "display_data"
    }
   ],
   "source": [
    "%%js\n",
    "function A() {\n",
    "    return true;  // Condition A\n",
    "}\n",
    "\n",
    "function B() {\n",
    "    return true;  // Condition B\n",
    "}\n",
    "\n",
    "// Original statement: if A then B\n",
    "if (A()) {\n",
    "    console.log(\"A is true, so B must also be true:\", B());\n",
    "} else {\n",
    "    console.log(\"A is false, we cannot conclude anything about B.\");\n",
    "}\n",
    "\n",
    "// Contrapositive: if not B then not A\n",
    "if (!B()) {\n",
    "    console.log(\"B is false, therefore A must also be false:\", !A());\n",
    "} else {\n",
    "    console.log(\"B is true, we cannot conclude anything about A.\");\n",
    "}"
   ]
  },
  {
   "cell_type": "markdown",
   "metadata": {},
   "source": [
    "## Homework Hacks Logic Gate Function"
   ]
  },
  {
   "cell_type": "code",
   "execution_count": 1,
   "metadata": {},
   "outputs": [
    {
     "name": "stdout",
     "output_type": "stream",
     "text": [
      "A     B | AND | OR | NOT A | NAND | NOR | XOR\n",
      "-----------------------------------------------\n",
      "1     1     | 1    | 1   | 0      | 0    | 0   | 0   \n",
      "1     0     | 0    | 1   | 0      | 1    | 0   | 1   \n",
      "0     1     | 0    | 1   | 1      | 1    | 0   | 1   \n",
      "0     0     | 0    | 0   | 1      | 1    | 1   | 0   \n"
     ]
    }
   ],
   "source": [
    "def AND(A, B):\n",
    "    return A and B\n",
    "\n",
    "def OR(A, B):\n",
    "    return A or B\n",
    "\n",
    "def NOT(A):\n",
    "    return not A\n",
    "\n",
    "def NAND(A, B):\n",
    "    return not (A and B)\n",
    "\n",
    "def NOR(A, B):\n",
    "    return not (A or B)\n",
    "\n",
    "def XOR(A, B):\n",
    "    return A != B\n",
    "\n",
    "def print_truth_table():\n",
    "    print(\"A     B | AND | OR | NOT A | NAND | NOR | XOR\")\n",
    "    print(\"-----------------------------------------------\")\n",
    "    for A in [True, False]:\n",
    "        for B in [True, False]:\n",
    "            print(f\"{A:<5} {B:<5} | {AND(A, B):<4} | {OR(A, B):<3} | {NOT(A):<6} | {NAND(A, B):<4} | {NOR(A, B):<3} | {XOR(A, B):<4}\")\n",
    "\n",
    "if __name__ == \"__main__\":\n",
    "    print_truth_table()\n"
   ]
  },
  {
   "cell_type": "markdown",
   "metadata": {},
   "source": [
    "### Popcorn Hack in java, can't be used in javascript"
   ]
  },
  {
   "cell_type": "code",
   "execution_count": null,
   "metadata": {
    "vscode": {
     "languageId": "java"
    }
   },
   "outputs": [
    {
     "data": {
      "application/javascript": "public class LogicGatesSimulator {\n\n    public static boolean AND(boolean A, boolean B) {\n        return A && B;\n    }\n\n    public static boolean OR(boolean A, boolean B) {\n        return A || B;\n    }\n\n    public static boolean NOT(boolean A) {\n        return !A;\n    }\n\n    public static boolean NAND(boolean A, boolean B) {\n        return !(A && B);\n    }\n\n    public static boolean NOR(boolean A, boolean B) {\n        return !(A || B);\n    }\n\n    public static boolean XOR(boolean A, boolean B) {\n        return A ^ B;\n    }\n\n    public static void printTruthTable() {\n        System.out.println(\"A     B | AND | OR | NOT A | NAND | NOR | XOR\");\n        System.out.println(\"-----------------------------------------------\");\n        for (boolean A : new boolean[]{true, false}) {\n            for (boolean B : new boolean[]{true, false}) {\n                System.out.printf(\"%-5b %-5b | %-4b | %-3b | %-6b | %-4b | %-3b | %-4b%n\",\n                        A, B, AND(A, B), OR(A, B), NOT(A), NAND(A, B), NOR(A, B), XOR(A, B));\n            }\n        }\n    }\n\n    public static void main(String[] args) {\n        printTruthTable();\n    }\n}\n",
      "text/plain": [
       "<IPython.core.display.Javascript object>"
      ]
     },
     "metadata": {},
     "output_type": "display_data"
    }
   ],
   "source": [
    "public class LogicGatesSimulator {\n",
    "\n",
    "    public static boolean AND(boolean A, boolean B) {\n",
    "        return A && B;\n",
    "    }\n",
    "\n",
    "    public static boolean OR(boolean A, boolean B) {\n",
    "        return A || B;\n",
    "    }\n",
    "\n",
    "    public static boolean NOT(boolean A) {\n",
    "        return !A;\n",
    "    }\n",
    "\n",
    "    public static boolean NAND(boolean A, boolean B) {\n",
    "        return !(A && B);\n",
    "    }\n",
    "\n",
    "    public static boolean NOR(boolean A, boolean B) {\n",
    "        return !(A || B);\n",
    "    }\n",
    "\n",
    "    public static boolean XOR(boolean A, boolean B) {\n",
    "        return A ^ B;\n",
    "    }\n",
    "\n",
    "    public static void printTruthTable() {\n",
    "        System.out.println(\"A     B | AND | OR | NOT A | NAND | NOR | XOR\");\n",
    "        System.out.println(\"-----------------------------------------------\");\n",
    "        for (boolean A : new boolean[]{true, false}) {\n",
    "            for (boolean B : new boolean[]{true, false}) {\n",
    "                System.out.printf(\"%-5b %-5b | %-4b | %-3b | %-6b | %-4b | %-3b | %-4b%n\",\n",
    "                        A, B, AND(A, B), OR(A, B), NOT(A), NAND(A, B), NOR(A, B), XOR(A, B));\n",
    "            }\n",
    "        }\n",
    "    }\n",
    "\n",
    "    public static void main(String[] args) {\n",
    "        printTruthTable();\n",
    "    }\n",
    "}\n"
   ]
  },
  {
   "cell_type": "markdown",
   "metadata": {},
   "source": [
    "### My Understanding of Logic Gate Functions\n",
    "\n",
    "1. **AND Function**: \n",
    "   - Returns `True` only if both inputs are `True`. Useful for conditions requiring multiple criteria to be met.\n",
    "\n",
    "2. **OR Function**: \n",
    "   - Returns `True` if at least one input is `True`. Ideal for situations where any condition must be satisfied.\n",
    "\n",
    "3. **NOT Function**: \n",
    "   - Returns the opposite of the input. Inverts boolean values, useful for negating conditions.\n",
    "\n",
    "4. **NAND Function**: \n",
    "   - Returns `False` only if both inputs are `True`. In all other cases, it returns `True`. Can construct any logical function using NAND gates.\n",
    "\n",
    "5. **NOR Function**: \n",
    "   - Returns `True` only when both inputs are `False`. Can also build any logical function using NOR gates.\n",
    "\n",
    "6. **XOR Function**: \n",
    "   - Returns `True` if inputs are different. Useful for determining if exactly one condition is met.\n",
    "\n",
    "These functions form the foundation of logical operations in programming and digital circuits.\n"
   ]
  }
 ],
 "metadata": {
  "kernelspec": {
   "display_name": "venv",
   "language": "python",
   "name": "python3"
  },
  "language_info": {
   "codemirror_mode": {
    "name": "ipython",
    "version": 3
   },
   "file_extension": ".py",
   "mimetype": "text/x-python",
   "name": "python",
   "nbconvert_exporter": "python",
   "pygments_lexer": "ipython3",
   "version": "3.12.5"
  }
 },
 "nbformat": 4,
 "nbformat_minor": 2
}
