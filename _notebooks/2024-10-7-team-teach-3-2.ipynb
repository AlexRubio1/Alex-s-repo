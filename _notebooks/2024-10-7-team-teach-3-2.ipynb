{
 "cells": [
  {
   "cell_type": "raw",
   "metadata": {},
   "source": [
    "---\n",
    "layout: post\n",
    "title: Team Teach 3.2 Homework and Popcorn Hacks\n",
    "description: Showing how I was able to work and experiment with these.\n",
    "courses: { csp: {week:1} }\n",
    "comments: true\n",
    "sticky_rank: 1\n",
    "---"
   ]
  },
  {
   "cell_type": "markdown",
   "metadata": {},
   "source": [
    "# 3.2 TEAM TEACH Monday\n",
    "## Popcorn hacks + Homework\n"
   ]
  },
  {
   "cell_type": "code",
   "execution_count": 7,
   "metadata": {},
   "outputs": [
    {
     "name": "stdout",
     "output_type": "stream",
     "text": [
      "The fruit for key 1 is bananas and its value is 1.\n"
     ]
    }
   ],
   "source": [
    "# Abstracting keys and assigning numbers 1, 2, and 3 to them\n",
    "fruit_dict = {1: \"bananas\", 2: \"apples\", 3: \"pears\"}\n",
    "# Creating a corresponding dictionary for their values\n",
    "fruit_values = {\"bananas\": 1, \"apples\": 2, \"pears\": 3}\n",
    "# Accessing the value using the key (e.g., key 1 for bananas)\n",
    "key = 1  # You can change this to 2 or 3 for other fruits\n",
    "# Output the corresponding fruit and its value\n",
    "fruit = fruit_dict[key]  # This gives us the fruit name\n",
    "value = fruit_values[fruit]  # This gives us the value associated with the fruit\n",
    "\n",
    "print(f\"The fruit for key {key} is {fruit} and its value is {value}.\")"
   ]
  },
  {
   "cell_type": "markdown",
   "metadata": {},
   "source": [
    "## Popcorn hack 2"
   ]
  },
  {
   "cell_type": "code",
   "execution_count": 6,
   "metadata": {},
   "outputs": [
    {
     "name": "stdout",
     "output_type": "stream",
     "text": [
      "Result: 4.0\n"
     ]
    }
   ],
   "source": [
    "# Simple Command-Line Calculator in Python\n",
    "\n",
    "# Get user input\n",
    "first_number = float(input(\"Please Enter the First Number Here: \"))\n",
    "second_number = float(input(\"Please Enter the Second Number Here: \"))\n",
    "math_function = input(\"Please Enter the operation (+, -, *, /): \")\n",
    "\n",
    "# Perform the calculation based on the math_function input\n",
    "if math_function == \"+\":\n",
    "    result = first_number + second_number\n",
    "elif math_function == \"-\":\n",
    "    result = first_number - second_number\n",
    "elif math_function == \"*\":\n",
    "    result = first_number * second_number\n",
    "elif math_function == \"/\":\n",
    "    # Check for division by zero\n",
    "    if second_number == 0:\n",
    "        result = \"Error: Division by zero is undefined.\"\n",
    "    else:\n",
    "        result = first_number / second_number\n",
    "else:\n",
    "    result = \"Invalid operation!\"\n",
    "\n",
    "# Output the result\n",
    "print(\"Result:\", result)"
   ]
  },
  {
   "cell_type": "markdown",
   "metadata": {},
   "source": [
    "## Popcorn Hack 3"
   ]
  },
  {
   "cell_type": "code",
   "execution_count": 14,
   "metadata": {},
   "outputs": [
    {
     "name": "stdout",
     "output_type": "stream",
     "text": [
      "['appleapple', 'bananabanana', 'orangeorange']\n"
     ]
    }
   ],
   "source": [
    "def repeat_strings(strings, n):\n",
    "    return [string * n for string in strings]  # Using list comprehension to repeat each string `n` times\n",
    "\n",
    "# Test the function\n",
    "string_list = [\"apple\", \"banana\", \"orange\"]\n",
    "repeated_strings = repeat_strings(string_list, 2)\n",
    "print(repeated_strings)"
   ]
  },
  {
   "cell_type": "markdown",
   "metadata": {},
   "source": [
    "## Popcorn hack 4"
   ]
  },
  {
   "cell_type": "code",
   "execution_count": 8,
   "metadata": {},
   "outputs": [
    {
     "name": "stdout",
     "output_type": "stream",
     "text": [
      "True\n",
      "False\n"
     ]
    }
   ],
   "source": [
    "def sets_have_common_elements(set1, set2):\n",
    "    return not set1.isdisjoint(set2)  \n",
    "\n",
    "print(sets_have_common_elements({1, 2, 3}, {3, 4}))  # Output: True\n",
    "print(sets_have_common_elements({1, 2, 3}, {4, 5}))  # Output: False"
   ]
  },
  {
   "cell_type": "markdown",
   "metadata": {},
   "source": [
    "## Homework\n",
    "### Part 1"
   ]
  },
  {
   "cell_type": "code",
   "execution_count": 17,
   "metadata": {},
   "outputs": [
    {
     "name": "stdout",
     "output_type": "stream",
     "text": [
      "{'name': 'Alex Rubio', 'age': 15, 'city': 'San diego', 'favorite_color': 'purple'}\n"
     ]
    }
   ],
   "source": [
    "profile = {\n",
    "    \"name\": \"Alex Rubio\",  \n",
    "    \"age\": 15,          \n",
    "    \"city\": \"San diego\", \n",
    "    \"favorite_color\": \"purple\"  \n",
    "}\n",
    "print(profile)"
   ]
  },
  {
   "cell_type": "markdown",
   "metadata": {},
   "source": [
    "### Part 2"
   ]
  },
  {
   "cell_type": "code",
   "execution_count": 18,
   "metadata": {},
   "outputs": [
    {
     "name": "stdout",
     "output_type": "stream",
     "text": [
      "['reading', 'cycling', 'coding']\n"
     ]
    }
   ],
   "source": [
    "# Part 2: Create a hobbies list\n",
    "hobbies = [\"reading\", \"cycling\", \"coding\"] \n",
    "print(hobbies)"
   ]
  },
  {
   "cell_type": "markdown",
   "metadata": {},
   "source": [
    "### Part 3"
   ]
  },
  {
   "cell_type": "code",
   "execution_count": 19,
   "metadata": {},
   "outputs": [
    {
     "name": "stdout",
     "output_type": "stream",
     "text": [
      "{'name': 'Alex Rubio', 'age': 15, 'city': 'San diego', 'favorite_color': 'purple', 'hobbies': ['reading', 'cycling', 'coding']}\n"
     ]
    }
   ],
   "source": [
    "# Part 3: Add hobbies to the profile dictionary\n",
    "profile[\"hobbies\"] = hobbies\n",
    "print(profile)"
   ]
  },
  {
   "cell_type": "markdown",
   "metadata": {},
   "source": [
    "### Part 4"
   ]
  },
  {
   "cell_type": "code",
   "execution_count": 20,
   "metadata": {},
   "outputs": [
    {
     "name": "stdout",
     "output_type": "stream",
     "text": [
      "Is cycling available today? True\n"
     ]
    }
   ],
   "source": [
    "# Part 4: Check availability of a hobby\n",
    "hobby_of_choice = \"cycling\"  # Choose one of the hobbies\n",
    "has_hobby = True  # Example: Set to True if it's available today\n",
    "\n",
    "# Print availability of the hobby\n",
    "print(f\"Is {hobby_of_choice} available today? {has_hobby}\")"
   ]
  },
  {
   "cell_type": "markdown",
   "metadata": {},
   "source": [
    "### Part 5"
   ]
  },
  {
   "cell_type": "code",
   "execution_count": 21,
   "metadata": {},
   "outputs": [
    {
     "name": "stdout",
     "output_type": "stream",
     "text": [
      "I have 3 hobbies.\n"
     ]
    }
   ],
   "source": [
    "# Part 5: Count total number of hobbies\n",
    "total_hobbies = len(hobbies)\n",
    "print(f\"I have {total_hobbies} hobbies.\")"
   ]
  },
  {
   "cell_type": "markdown",
   "metadata": {},
   "source": [
    "### Part 6"
   ]
  },
  {
   "cell_type": "code",
   "execution_count": 22,
   "metadata": {},
   "outputs": [
    {
     "name": "stdout",
     "output_type": "stream",
     "text": [
      "('reading', 'coding')\n"
     ]
    }
   ],
   "source": [
    "# Part 6: Create a tuple for favorite hobbies\n",
    "favorite_hobbies = (\"reading\", \"coding\")  # Example: Two favorite hobbies\n",
    "print(favorite_hobbies)"
   ]
  },
  {
   "cell_type": "markdown",
   "metadata": {},
   "source": [
    "### Part 7"
   ]
  },
  {
   "cell_type": "code",
   "execution_count": 23,
   "metadata": {},
   "outputs": [
    {
     "name": "stdout",
     "output_type": "stream",
     "text": [
      "{'programming', 'graphic design', 'public speaking'}\n"
     ]
    }
   ],
   "source": [
    "# Part 7: Create a set of skills\n",
    "skills = {\"programming\", \"public speaking\", \"graphic design\"}  # Example skills\n",
    "print(skills)"
   ]
  },
  {
   "cell_type": "markdown",
   "metadata": {},
   "source": [
    "### Part 8"
   ]
  },
  {
   "cell_type": "code",
   "execution_count": 24,
   "metadata": {},
   "outputs": [
    {
     "name": "stdout",
     "output_type": "stream",
     "text": [
      "None\n"
     ]
    }
   ],
   "source": [
    "# Part 8: Create a variable for new skill\n",
    "new_skill = None  # You haven't decided yet\n",
    "print(new_skill)"
   ]
  },
  {
   "cell_type": "markdown",
   "metadata": {},
   "source": [
    "### Part 9"
   ]
  },
  {
   "cell_type": "code",
   "execution_count": 25,
   "metadata": {},
   "outputs": [
    {
     "name": "stdout",
     "output_type": "stream",
     "text": [
      "Total cost to pursue hobbies and develop skills: $45.00\n"
     ]
    }
   ],
   "source": [
    "# Part 9: Calculate the total profile cost\n",
    "# Each hobby costs $5, and each skill costs $10\n",
    "hobby_cost = 5\n",
    "skill_cost = 10\n",
    "\n",
    "total_cost = (total_hobbies * hobby_cost) + (len(skills) * skill_cost)\n",
    "print(f\"Total cost to pursue hobbies and develop skills: ${total_cost:.2f}\")"
   ]
  }
 ],
 "metadata": {
  "kernelspec": {
   "display_name": "venv",
   "language": "python",
   "name": "python3"
  },
  "language_info": {
   "codemirror_mode": {
    "name": "ipython",
    "version": 3
   },
   "file_extension": ".py",
   "mimetype": "text/x-python",
   "name": "python",
   "nbconvert_exporter": "python",
   "pygments_lexer": "ipython3",
   "version": "3.12.5"
  }
 },
 "nbformat": 4,
 "nbformat_minor": 2
}
