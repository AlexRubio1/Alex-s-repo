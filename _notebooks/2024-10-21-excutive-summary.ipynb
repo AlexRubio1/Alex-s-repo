{
 "cells": [
  {
   "cell_type": "raw",
   "metadata": {},
   "source": [
    "---\n",
    "layout: post\n",
    "title: Excutive summary\n",
    "description: my excutive summary\n",
    "courses: { csp: {week:1} }\n",
    "comments: true\n",
    "sticky_rank: 1\n",
    "---"
   ]
  },
  {
   "cell_type": "markdown",
   "metadata": {},
   "source": [
    " **Assignment**             | **Points**    | **Grade** | **Evidence** |\n",
    "|----------------------------|---------------|-----------|--------------|\n",
    "| Baseline Grade             | 55%           |           |          |\n",
    "| Max Grade                  | 90%           |           |              |\n",
    "| Pull Request (Integration) | 1             |     1     |    ![image](https://github.com/user-attachments/assets/258291b0-781c-4ad6-aca2-38fa6310e618) |\n",
    "| Relevancy Checklist (Peer) | 2             |      2     |     <img width=\"1141\" alt=\"Screenshot 2024-10-15 at 10 11 34 AM\" src=\"https://github.com/user-attachments/assets/4b2a7cbd-4577-492f-8a52-6a27ae26d983\">         |\n",
    "| Lesson Style (Period)      | 1             |      0     |     Didn't help as much as I wanted to on the main index as the scrum master made the style pink and more  so the scrum mostly did everything  stylewise       |\n",
    "| Homework, Popcorn Hacks    | 1 x 5         |     5      |   The first popcorn hack or the first code in the beginning is the python version   ![image](https://github.com/user-attachments/assets/88c7a785-04f7-4b0e-b4a7-5582d8b8d274)  Then my homework was to create a copy of my to-do-list and make your own and being creative, optional to use the enumerate function <img width=\"875\" alt=\"Screenshot 2024-10-15 at 8 29 22 PM\" src=\"https://github.com/user-attachments/assets/cd34560f-86b3-43b4-b1a8-7a02a1f905c9\">  So with being taught already and what you worked with in the popcorn hack you should have a idea of how to change it    |\n",
    "| Individual Contribution    | 1             |      1     |    <img width=\"1039\" alt=\"Screenshot 2024-10-15 at 8 33 25 PM\" src=\"https://github.com/user-attachments/assets/ba84b19a-d42c-4541-bf92-d1ee3ee51ae3\"> Presented 3.8.3 index loops  |\n",
    "| Personal Notebooks / Blogs | 1             |      1     |      <img width=\"356\" alt=\"Screenshot 2024-10-15 at 8 34 48 PM\" src=\"https://github.com/user-attachments/assets/231ab790-27e6-4b7e-b1bd-730b5a03130b\"> Each lesson in a notebook and a summary |\n",
    "| Total                      | 11            |     10      |              |\n",
    "\n",
    "\n",
    "| **Skill**                  | **Points**    | **Grade** | **Evidence** |\n",
    "|----------------------------|---------------|-----------|--------------|\n",
    "| Work Habits (Analytics)    |   1           |     1      |  Github analytics and commits on team-teach  <img width=\"1033\" alt=\"Screenshot 2024-10-15 at 8 39 58 PM\" src=\"https://github.com/user-attachments/assets/eb712c50-fa34-4e91-8f0e-ccedbf2cd5d1\"> <img width=\"1373\" alt=\"Screenshot 2024-10-15 at 8 40 26 PM\" src=\"https://github.com/user-attachments/assets/24cd303c-624e-4bae-8920-d217cae8cfaa\"> |\n",
    "| Team Planning (Issue)      |   1           |      1     |        ![image](https://github.com/user-attachments/assets/331d8dca-6372-42e5-834b-6d4c167c5f8a) |\n",
    "| Presentation Memories      |   1           |      1     |      I remember trying to be very clear and it working as when we were completing the popcorn hacks everyone had a clear understanding and going off the popcorn hacks every shouldve had a easy time doing the homework.  I tried to speak as clearly and loud as possible        |\n",
    "| Grading and Feedback       |   1           |     1      |      <img width=\"918\" alt=\"Screenshot 2024-10-15 at 8 53 45 PM\" src=\"https://github.com/user-attachments/assets/4237e2de-3040-4b5d-aefe-edb8d3952f1f\"> our grading:  ![image](https://github.com/user-attachments/assets/ba3ac1ba-0b2a-4303-ac74-ad062ba9796f)|\n",
    "| Beyond Perfunctory         |   1           |      1     |      Our website was fairly straightforward and adhered to standard guidelines, without too many extra features. However, we did successfully modify the font colors and sizes without disrupting the config.yml file changing it to pink and more    | \n",
    "\n",
    " | **Assignment**          | **Weightage** | **Grade** | **Comments** |\n",
    "|-------------------------|---------------|-----------|--------------|\n",
    "| College Board Coverage  | 20            |20       | Our topic focused on iterations and the various types of loops and me personally index loops. I believe we and myself covered all the key concepts, providing multiple examples in both JavaScript and Python.  Me personally I tried to make a fun popcorn hack and something that would get people interested with index loops and want to actually learn it.    |\n",
    "| Python Examples         | 15            | 15       | For my example i used python and index loops by using items as my values and  the enumerate function to create a actual index loop <img width=\"906\" alt=\"Screenshot 2024-10-15 at 9 08 25 PM\" src=\"https://github.com/user-attachments/assets/8cfa3c4e-8c93-4639-86c2-66e445124b4d\">|\n",
    "| JavaScript Examples     | 15            | 15       |The same as python but in javascript enumerate isn't available in javascript so you would have to set it manually <img width=\"871\" alt=\"Screenshot 2024-10-15 at 9 08 40 PM\" src=\"https://github.com/user-attachments/assets/c25f8a3b-eddf-477c-8809-c62ac444cbdc\">|\n",
    "| Popcorn Hack Usage      | 10            | 10       |   For every example that I had i used python and javascript allowing the understanding for both coding languages.  <img width=\"868\" alt=\"Screenshot 2024-10-15 at 9 05 51 PM 1\" src=\"https://github.com/user-attachments/assets/2bfeaa3f-e240-4d21-9825-e185f6995df7\">  Same as python i used a javascript example and added a little brief explanation because I know it could be hard to understand javascript at times <img width=\"869\" alt=\"Screenshot 2024-10-15 at 9 06 46 PM\" src=\"https://github.com/user-attachments/assets/4e419046-cb98-4088-8d2a-8c0819af5e86\">   |\n",
    "| Homework                | 10            | 10       | Using the popcorn hack as a template you would have to switch the whole idea and be original with your homework changing the checklist to something that could be useful to you like check list of your hobbys, to do list, something thats meaningful to you! <img width=\"868\" alt=\"Screenshot 2024-10-15 at 9 05 51 PM 1\" src=\"https://github.com/user-attachments/assets/2bfeaa3f-e240-4d21-9825-e185f6995df7\"> <img width=\"859\" alt=\"Screenshot 2024-10-15 at 9 23 22 PM\" src=\"https://github.com/user-attachments/assets/01bf9402-c61c-4e76-b27e-1a03ae2cf67f\"> |\n",
    "| Grading Plan            | 10            | 10       | We made a issue as a group and followed the directions the scrum master gave us, me personally this was my grading plan:  <img width=\"948\" alt=\"Screenshot 2024-10-15 at 9 28 17 PM\" src=\"https://github.com/user-attachments/assets/9765f3f7-d1b9-4394-88d9-b098538a976d\"> |\n",
    "| Original and Creative    | 10            | 10       | All of our formatting and examples are completely original, and we took the opportunity to customize the fonts to give the design a more playful look. Additionally, we incorporated loops beyond the College Board curriculum, demonstrating various ways to utilize iterations in everyday programming tasks.          |\n",
    "| **Total**               | **90**        |      90    |              |"
   ]
  }
 ],
 "metadata": {
  "language_info": {
   "name": "python"
  }
 },
 "nbformat": 4,
 "nbformat_minor": 2
}
