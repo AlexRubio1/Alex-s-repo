{
 "cells": [
  {
   "cell_type": "raw",
   "metadata": {},
   "source": [
    "---\n",
    "layout: post\n",
    "title: Team Teach 3.7 Homework and Popcorn Hacks\n",
    "description: Showing how I was able to work and experiment with these.\n",
    "courses: { csp: {week:1} }\n",
    "comments: true\n",
    "sticky_rank: 1\n",
    "---"
   ]
  },
  {
   "cell_type": "markdown",
   "metadata": {},
   "source": [
    "# 3.7 Team lesson Popcorn Hacks + Homework\n",
    "## Popcorn hacks are in both javascript then python\n",
    "### Popcorn hack 1 based off snack options"
   ]
  },
  {
   "cell_type": "code",
   "execution_count": 1,
   "metadata": {},
   "outputs": [
    {
     "name": "stdout",
     "output_type": "stream",
     "text": [
      "You can have a granola bar.\n"
     ]
    }
   ],
   "source": [
    "import random\n",
    "\n",
    "# List of snack options\n",
    "candy_options = [\"chocolate\", \"gummy bears\", \"lollipops\"]\n",
    "healthy_snack_options = [\"granola bar\", \"yogurt\", \"mixed nuts\"]\n",
    "fruit_snack_options = [\"apple slices\", \"banana\", \"grapes\"]\n",
    "\n",
    "age = int(input(\"Enter your age: \"))\n",
    "likes_sweets = input(\"Do you like sweets? (yes/no): \").lower()\n",
    "\n",
    "if age >= 10:\n",
    "    if likes_sweets == \"yes\":\n",
    "        candy_choice = random.choice(candy_options)\n",
    "        print(f\"You can have {candy_choice}!\")\n",
    "    else:\n",
    "        healthy_choice = random.choice(healthy_snack_options)\n",
    "        print(f\"You can have a {healthy_choice}.\")\n",
    "else:\n",
    "    fruit_choice = random.choice(fruit_snack_options)\n",
    "    print(f\"You get {fruit_choice} as a fruit snack.\")\n"
   ]
  },
  {
   "cell_type": "code",
   "execution_count": null,
   "metadata": {
    "vscode": {
     "languageId": "javascript"
    }
   },
   "outputs": [],
   "source": [
    "%%js\n",
    "const candyOptions = [\"chocolate\", \"gummy bears\", \"lollipops\"];\n",
    "const healthySnackOptions = [\"granola bar\", \"yogurt\", \"mixed nuts\"];\n",
    "const fruitSnackOptions = [\"apple slices\", \"banana\", \"grapes\"];\n",
    "\n",
    "const age = parseInt(prompt(\"Enter your age: \"));\n",
    "const likesSweets = prompt(\"Do you like sweets? (yes/no): \").toLowerCase();\n",
    "\n",
    "function getRandomSnack(snackArray) {\n",
    "    return snackArray[Math.floor(Math.random() * snackArray.length)];\n",
    "}\n",
    "\n",
    "if (age >= 10) {\n",
    "    if (likesSweets === \"yes\") {\n",
    "        const candyChoice = getRandomSnack(candyOptions);\n",
    "        console.log(`You can have ${candyChoice}!`);\n",
    "    } else {\n",
    "        const healthyChoice = getRandomSnack(healthySnackOptions);\n",
    "        console.log(`You can have a ${healthyChoice}.`);\n",
    "    }\n",
    "} else {\n",
    "    const fruitChoice = getRandomSnack(fruitSnackOptions);\n",
    "    console.log(`You get ${fruitChoice} as a fruit snack.`);\n",
    "}\n"
   ]
  },
  {
   "cell_type": "markdown",
   "metadata": {},
   "source": [
    "### Popcorn Hack 2 based of laptop prices/savings"
   ]
  },
  {
   "cell_type": "code",
   "execution_count": 2,
   "metadata": {},
   "outputs": [
    {
     "name": "stdout",
     "output_type": "stream",
     "text": [
      "You can afford the following laptops:\n",
      "- MacBook: 16GB RAM, 512GB SSD, M1 Chip ($1200)\n",
      "- Dell Inspiron: 8GB RAM, 256GB SSD, Intel i5 ($800)\n",
      "- HP Pavilion: 8GB RAM, 512GB HDD, AMD Ryzen 5 ($700)\n",
      "- Lenovo IdeaPad: 8GB RAM, 128GB SSD, Intel i3 ($650)\n",
      "- Asus VivoBook: 4GB RAM, 256GB SSD, Intel i3 ($600)\n"
     ]
    }
   ],
   "source": [
    "laptops = {\n",
    "    \"MacBook\": {\"price\": 1200, \"specs\": \"16GB RAM, 512GB SSD, M1 Chip\"},\n",
    "    \"Dell Inspiron\": {\"price\": 800, \"specs\": \"8GB RAM, 256GB SSD, Intel i5\"},\n",
    "    \"HP Pavilion\": {\"price\": 700, \"specs\": \"8GB RAM, 512GB HDD, AMD Ryzen 5\"},\n",
    "    \"Lenovo IdeaPad\": {\"price\": 650, \"specs\": \"8GB RAM, 128GB SSD, Intel i3\"},\n",
    "    \"Asus VivoBook\": {\"price\": 600, \"specs\": \"4GB RAM, 256GB SSD, Intel i3\"}\n",
    "}\n",
    "\n",
    "savings = float(input(\"Enter your savings amount: $\"))\n",
    "\n",
    "\n",
    "affordable_laptops = [name for name, details in laptops.items() if savings >= details[\"price\"]]\n",
    "\n",
    "if affordable_laptops:\n",
    "    print(\"You can afford the following laptops:\")\n",
    "    for laptop in affordable_laptops:\n",
    "        print(f\"- {laptop}: {laptops[laptop]['specs']} (${laptops[laptop]['price']})\")\n",
    "else:\n",
    "    print(\"You don't have enough money to buy any of the listed laptops.\")\n"
   ]
  },
  {
   "cell_type": "code",
   "execution_count": 3,
   "metadata": {
    "vscode": {
     "languageId": "javascript"
    }
   },
   "outputs": [
    {
     "data": {
      "application/javascript": "const laptops = {\n    \"MacBook\": { price: 1200, specs: \"16GB RAM, 512GB SSD, M1 Chip\" },\n    \"Dell Inspiron\": { price: 800, specs: \"8GB RAM, 256GB SSD, Intel i5\" },\n    \"HP Pavilion\": { price: 700, specs: \"8GB RAM, 512GB HDD, AMD Ryzen 5\" },\n    \"Lenovo IdeaPad\": { price: 650, specs: \"8GB RAM, 128GB SSD, Intel i3\" },\n    \"Asus VivoBook\": { price: 600, specs: \"4GB RAM, 256GB SSD, Intel i3\" }\n};\n\n\nfunction checkAffordability(savings) {\n    const affordableLaptops = [];\n\n    for (const laptop in laptops) {\n        if (savings >= laptops[laptop].price) {\n            affordableLaptops.push(`${laptop}: ${laptops[laptop].specs} ($${laptops[laptop].price})`);\n        }\n    }\n\n    if (affordableLaptops.length > 0) {\n        console.log(\"You can afford the following laptops:\");\n        affordableLaptops.forEach(laptop => console.log(`- ${laptop}`));\n    } else {\n        console.log(\"You don't have enough money to buy any of the listed laptops.\");\n    }\n}\n\nconst savingsInput = prompt(\"Enter your savings amount: $\");\nconst savings = parseFloat(savingsInput);\n\n\ncheckAffordability(savings);\n",
      "text/plain": [
       "<IPython.core.display.Javascript object>"
      ]
     },
     "metadata": {},
     "output_type": "display_data"
    }
   ],
   "source": [
    "%%js\n",
    "const laptops = {\n",
    "    \"MacBook\": { price: 1200, specs: \"16GB RAM, 512GB SSD, M1 Chip\" },\n",
    "    \"Dell Inspiron\": { price: 800, specs: \"8GB RAM, 256GB SSD, Intel i5\" },\n",
    "    \"HP Pavilion\": { price: 700, specs: \"8GB RAM, 512GB HDD, AMD Ryzen 5\" },\n",
    "    \"Lenovo IdeaPad\": { price: 650, specs: \"8GB RAM, 128GB SSD, Intel i3\" },\n",
    "    \"Asus VivoBook\": { price: 600, specs: \"4GB RAM, 256GB SSD, Intel i3\" }\n",
    "};\n",
    "\n",
    "\n",
    "function checkAffordability(savings) {\n",
    "    const affordableLaptops = [];\n",
    "\n",
    "    for (const laptop in laptops) {\n",
    "        if (savings >= laptops[laptop].price) {\n",
    "            affordableLaptops.push(`${laptop}: ${laptops[laptop].specs} ($${laptops[laptop].price})`);\n",
    "        }\n",
    "    }\n",
    "\n",
    "    if (affordableLaptops.length > 0) {\n",
    "        console.log(\"You can afford the following laptops:\");\n",
    "        affordableLaptops.forEach(laptop => console.log(`- ${laptop}`));\n",
    "    } else {\n",
    "        console.log(\"You don't have enough money to buy any of the listed laptops.\");\n",
    "    }\n",
    "}\n",
    "\n",
    "const savingsInput = prompt(\"Enter your savings amount: $\");\n",
    "const savings = parseFloat(savingsInput);\n",
    "\n",
    "\n",
    "checkAffordability(savings);\n"
   ]
  },
  {
   "cell_type": "markdown",
   "metadata": {},
   "source": [
    "### Popcorn Hack 3 based off grocery shopping"
   ]
  },
  {
   "cell_type": "code",
   "execution_count": null,
   "metadata": {},
   "outputs": [],
   "source": [
    "is_store_open = True\n",
    "is_vegetables_available = True\n",
    "is_fruits_available = False\n",
    "is_dairy_available = True\n",
    "\n",
    "def grocery_shopping():\n",
    "    if is_store_open:\n",
    "        print(\"The grocery store is open. You can go shopping.\")\n",
    "\n",
    "        if is_vegetables_available:\n",
    "            print(\"Great! You can buy fresh vegetables.\")\n",
    "        else:\n",
    "            print(\"Vegetables are not available.\")\n",
    "\n",
    "        if is_fruits_available:\n",
    "            print(\"You can buy some fresh fruits.\")\n",
    "        else:\n",
    "            print(\"Fruits are not available.\")\n",
    "\n",
    "        if is_dairy_available:\n",
    "            print(\"Dairy products are available for purchase.\")\n",
    "        else:\n",
    "            print(\"Dairy products are not available.\")\n",
    "\n",
    "        if not is_vegetables_available and not is_fruits_available and not is_dairy_available:\n",
    "            print(\"Unfortunately, none of your desired items are available. You might want to try another store.\")\n",
    "        else:\n",
    "            print(\"Happy shopping! Check your list to make sure you get everything.\")\n",
    "    else:\n",
    "        print(\"The store is currently closed. Please come back later.\")\n",
    "\n",
    "grocery_shopping()\n"
   ]
  },
  {
   "cell_type": "code",
   "execution_count": 4,
   "metadata": {
    "vscode": {
     "languageId": "javascript"
    }
   },
   "outputs": [
    {
     "data": {
      "application/javascript": "let isStoreOpen = true;\nlet isVegetablesAvailable = true;\nlet isFruitsAvailable = false;\nlet isDairyAvailable = true;\n\n// Function to simulate shopping\nfunction groceryShopping() {\n    if (isStoreOpen) {\n        console.log(\"The grocery store is open. You can go shopping.\");\n\n        // Nested conditionals for item availability\n        if (isVegetablesAvailable) {\n            console.log(\"Great! You can buy fresh vegetables.\");\n        } else {\n            console.log(\"Vegetables are not available.\");\n        }\n\n        if (isFruitsAvailable) {\n            console.log(\"You can buy some fresh fruits.\");\n        } else {\n            console.log(\"Fruits are not available.\");\n        }\n\n        if (isDairyAvailable) {\n            console.log(\"Dairy products are available for purchase.\");\n        } else {\n            console.log(\"Dairy products are not available.\");\n        }\n\n        // Suggest alternative items based on availability\n        if (!isVegetablesAvailable && !isFruitsAvailable && !isDairyAvailable) {\n            console.log(\"Unfortunately, none of your desired items are available. You might want to try another store.\");\n        } else {\n            console.log(\"Happy shopping! Check your list to make sure you get everything.\");\n        }\n    } else {\n        console.log(\"The store is currently closed. Please come back later.\");\n    }\n}\n\n// Run the grocery shopping simulation\ngroceryShopping();\n",
      "text/plain": [
       "<IPython.core.display.Javascript object>"
      ]
     },
     "metadata": {},
     "output_type": "display_data"
    }
   ],
   "source": [
    "%%js\n",
    "let isStoreOpen = true;\n",
    "let isVegetablesAvailable = true;\n",
    "let isFruitsAvailable = false;\n",
    "let isDairyAvailable = true;\n",
    "\n",
    "\n",
    "function groceryShopping() {\n",
    "    if (isStoreOpen) {\n",
    "        console.log(\"The grocery store is open. You can go shopping.\");\n",
    "\n",
    "        if (isVegetablesAvailable) {\n",
    "            console.log(\"Great! You can buy fresh vegetables.\");\n",
    "        } else {\n",
    "            console.log(\"Vegetables are not available.\");\n",
    "        }\n",
    "\n",
    "        if (isFruitsAvailable) {\n",
    "            console.log(\"You can buy some fresh fruits.\");\n",
    "        } else {\n",
    "            console.log(\"Fruits are not available.\");\n",
    "        }\n",
    "\n",
    "        if (isDairyAvailable) {\n",
    "            console.log(\"Dairy products are available for purchase.\");\n",
    "        } else {\n",
    "            console.log(\"Dairy products are not available.\");\n",
    "        }\n",
    "\n",
    "        if (!isVegetablesAvailable && !isFruitsAvailable && !isDairyAvailable) {\n",
    "            console.log(\"Unfortunately, none of your desired items are available. You might want to try another store.\");\n",
    "        } else {\n",
    "            console.log(\"Happy shopping! Check your list to make sure you get everything.\");\n",
    "        }\n",
    "    } else {\n",
    "        console.log(\"The store is currently closed. Please come back later.\");\n",
    "    }\n",
    "}\n",
    "\n",
    "groceryShopping();\n"
   ]
  },
  {
   "cell_type": "markdown",
   "metadata": {},
   "source": [
    "### Popcorn Hack #1: Age and Snack Preferences\n",
    "This hack prompts users for their age and whether they like sweets, then provides a snack suggestion based on their responses:\n",
    "- Users aged 10 or older who like sweets get a candy recommendation.\n",
    "- Older users who dislike sweets are offered a healthy snack.\n",
    "- Users younger than 10 receive a fruit snack.\n",
    "\n",
    "This exercise teaches decision-making in code using `if` and `else` statements based on user input.\n",
    "\n",
    "---\n",
    "\n",
    "### Popcorn Hack #2: Laptop Affordability Check\n",
    "This program checks a user's savings against various laptop prices to determine which one they can afford:\n",
    "- It first checks if the user can buy a MacBook, then a Dell, and finally an HP laptop.\n",
    "- If the savings are insufficient for any option, it informs the user they can't buy a laptop.\n",
    "\n",
    "This hack demonstrates how to use conditions effectively to create a decision-making process based on multiple criteria.\n",
    "\n",
    "---\n",
    "\n",
    "### Popcorn Hack #3: Grocery Shopping Simulation\n",
    "This hack simulates grocery shopping by checking the availability of items using boolean values and nested conditionals:\n",
    "- It first verifies if the store is open.\n",
    "- If open, it checks for the availability of vegetables, fruits, and dairy, providing appropriate feedback.\n",
    "- If no desired items are available, it suggests trying another store.\n",
    "\n",
    "This exercise illustrates managing multiple boolean conditions and giving user feedback, enhancing the shopping experience.\n"
   ]
  },
  {
   "cell_type": "markdown",
   "metadata": {},
   "source": [
    "## Homework Hacks"
   ]
  },
  {
   "cell_type": "code",
   "execution_count": 5,
   "metadata": {},
   "outputs": [
    {
     "name": "stdout",
     "output_type": "stream",
     "text": [
      "Great! You can play with the older kids.\n",
      "How about some competitive soccer or basketball?\n"
     ]
    }
   ],
   "source": [
    "def get_age():\n",
    "    while True:\n",
    "        try:\n",
    "            age = int(input(\"Enter your age: \"))\n",
    "            if age < 0:\n",
    "                print(\"Age cannot be negative. Please enter a valid age.\")\n",
    "            else:\n",
    "                return age\n",
    "        except ValueError:\n",
    "            print(\"Invalid input. Please enter a number.\")\n",
    "\n",
    "def check_ball_ownership():\n",
    "    while True:\n",
    "        has_ball = input(\"Do you have a ball? (yes/no): \").lower()\n",
    "        if has_ball in [\"yes\", \"no\"]:\n",
    "            return has_ball\n",
    "        else:\n",
    "            print(\"Please answer with 'yes' or 'no'.\")\n",
    "\n",
    "def determine_group(age):\n",
    "    if age < 8:\n",
    "        return \"younger kids\"\n",
    "    else:\n",
    "        return \"older kids\"\n",
    "\n",
    "def main():\n",
    "    age = get_age()\n",
    "    has_ball = check_ball_ownership()\n",
    "    \n",
    "    can_join_game = age >= 5 and has_ball == \"yes\"\n",
    "\n",
    "    if can_join_game:\n",
    "        group = determine_group(age)\n",
    "        print(f\"Great! You can play with the {group}.\")\n",
    "        # Additional suggestion based on age\n",
    "        if age < 8:\n",
    "            print(\"We have fun games like tag and duck-duck-goose!\")\n",
    "        else:\n",
    "            print(\"How about some competitive soccer or basketball?\")\n",
    "    else:\n",
    "        print(\"Sorry, you can't join the game yet.\")\n",
    "        if age < 5:\n",
    "            print(\"You need to be at least 5 years old to join.\")\n",
    "        else:\n",
    "            print(\"It seems you don't have a ball. Maybe you can borrow one from a friend!\")\n",
    "\n",
    "if __name__ == \"__main__\":\n",
    "    main()\n"
   ]
  },
  {
   "cell_type": "markdown",
   "metadata": {},
   "source": [
    "### Additions:\n",
    "\n",
    "1. **Input Validation**: \n",
    "   - Added checks to ensure the age entered is non-negative and prompts for valid input regarding ball ownership, improving user experience and preventing errors.\n",
    "\n",
    "2. **Dynamic Group Assignment**: \n",
    "   - Separated the logic for determining the play group into its own function (`determine_group`), promoting modularity and clarity in the code.\n",
    "\n",
    "3. **Personalized Messages**: \n",
    "   - Included additional feedback and game suggestions based on the user's age, making the interaction more engaging and informative.\n",
    "\n",
    "4. **Function Structure**: \n",
    "   - Organized the code into functions (`get_age`, `check_ball_ownership`, `main`) to enhance readability and maintainability, showcasing better coding practices.\n"
   ]
  }
 ],
 "metadata": {
  "kernelspec": {
   "display_name": "venv",
   "language": "python",
   "name": "python3"
  },
  "language_info": {
   "codemirror_mode": {
    "name": "ipython",
    "version": 3
   },
   "file_extension": ".py",
   "mimetype": "text/x-python",
   "name": "python",
   "nbconvert_exporter": "python",
   "pygments_lexer": "ipython3",
   "version": "3.12.5"
  }
 },
 "nbformat": 4,
 "nbformat_minor": 2
}
