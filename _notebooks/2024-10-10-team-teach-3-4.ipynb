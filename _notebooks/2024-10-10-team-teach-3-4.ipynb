{
 "cells": [
  {
   "cell_type": "raw",
   "metadata": {},
   "source": [
    "---\n",
    "layout: post\n",
    "title: Team Teach 3.4 Homework and Popcorn Hacks\n",
    "description: Showing how I was able to work and experiment with these.\n",
    "courses: { csp: {week:1} }\n",
    "comments: true\n",
    "sticky_rank: 1\n",
    "---"
   ]
  },
  {
   "cell_type": "markdown",
   "metadata": {},
   "source": [
    "# 3.4 Team lesson Popcorn Hacks + Homework\n",
    "## Popcorn hack are in both javascript then python\n",
    "### Popcorn hack 1"
   ]
  },
  {
   "cell_type": "code",
   "execution_count": 26,
   "metadata": {
    "vscode": {
     "languageId": "javascript"
    }
   },
   "outputs": [
    {
     "data": {
      "application/javascript": "\n\nlet favoriteMovie = \"Alice in Wonderland\";\nlet favoriteSport = \"Football\";\nlet petName = \"Luna\";\n\n\n// Concatenation\nlet concatenatedMessage = \"My favorite movie is \" + favoriteMovie + \". I love playing \" + favoriteSport + \" and my pet's name is \" + petName + \".\";\n\n\n// Interpolation\nlet interpolatedMessage = `My favorite movie is ${favoriteMovie}. I love playing ${favoriteSport} and my pet's name is ${petName}.`;\n",
      "text/plain": [
       "<IPython.core.display.Javascript object>"
      ]
     },
     "metadata": {},
     "output_type": "display_data"
    }
   ],
   "source": [
    "%%js\n",
    "\n",
    "\n",
    "let favoriteMovie = \"Alice in Wonderland\";\n",
    "let favoriteSport = \"Football\";\n",
    "let petName = \"Luna\";\n",
    "\n",
    "\n",
    "// Concatenation\n",
    "let concatenatedMessage = \"My favorite movie is \" + favoriteMovie + \". I love playing \" + favoriteSport + \" and my pet's name is \" + petName + \".\";\n",
    "\n",
    "\n",
    "// Interpolation\n",
    "let interpolatedMessage = `My favorite movie is ${favoriteMovie}. I love playing ${favoriteSport} and my pet's name is ${petName}.`;\n"
   ]
  },
  {
   "cell_type": "code",
   "execution_count": 9,
   "metadata": {},
   "outputs": [
    {
     "name": "stdout",
     "output_type": "stream",
     "text": [
      "My favorite movie is Ready Player One. I love playing Football and my pet's name is Luna.\n",
      "My favorite movie is Ready Player One. I love playing Football and my pet's name is Luna.\n"
     ]
    }
   ],
   "source": [
    "favorite_movie = \"Alice in Wonderland\"\n",
    "favorite_sport = \"Football\"\n",
    "pet_name = \"Luna\"\n",
    "\n",
    "# Concatenation\n",
    "concatenated_message = \"My favorite movie is \" + favorite_movie + \". I love playing \" + favorite_sport + \" and my pet's name is \" + pet_name + \".\"\n",
    "\n",
    "# Interpolation (using f-strings)\n",
    "interpolated_message = f\"My favorite movie is {favorite_movie}. I love playing {favorite_sport} and my pet's name is {pet_name}.\"\n",
    "\n",
    "# Output the messages\n",
    "print(concatenated_message)\n",
    "print(interpolated_message)\n"
   ]
  },
  {
   "cell_type": "markdown",
   "metadata": {},
   "source": [
    "### Popcorn Hack 2"
   ]
  },
  {
   "cell_type": "code",
   "execution_count": 27,
   "metadata": {
    "vscode": {
     "languageId": "javascript"
    }
   },
   "outputs": [
    {
     "data": {
      "application/javascript": "let phrase = \"A journey of a thousand miles begins with a single step\";\n\n// Extraction\nlet partOne = phrase.slice(2, 8); // Extracts \"journey\"\nlet partTwo = phrase.slice(-18, -12); // Extracts \"miles\" using a negative starting index\nlet remainder = phrase.slice(20); // Extracts everything from \"begins\" to the end of the sentence\n\n// Output with messages\nconsole.log(\"Extracted Word 1: \" + partOne);  // Output: journey\nconsole.log(\"Extracted Word 2: \" + partTwo);  // Output: miles\nconsole.log(\"Remainder of the Phrase: \" + remainder); // Output: begins with a single step\n",
      "text/plain": [
       "<IPython.core.display.Javascript object>"
      ]
     },
     "metadata": {},
     "output_type": "display_data"
    }
   ],
   "source": [
    "%%js\n",
    "let phrase = \"A journey of a thousand miles begins with a single step\";\n",
    "\n",
    "\n",
    "let partOne = phrase.slice(2, 8); // Extracts \"journey\"\n",
    "let partTwo = phrase.slice(-18, -12); // Extracts \"miles\" using a negative starting index\n",
    "let remainder = phrase.slice(20); // Extracts everything from \"begins\" to the end of the sentence\n",
    "\n",
    "\n",
    "console.log(\"Extracted Word 1: \" + partOne);  // Output: journey\n",
    "console.log(\"Extracted Word 2: \" + partTwo);  // Output: miles\n",
    "console.log(\"Remainder of the Phrase: \" + remainder); // Output: begins with a single step\n"
   ]
  },
  {
   "cell_type": "code",
   "execution_count": 28,
   "metadata": {},
   "outputs": [
    {
     "name": "stdout",
     "output_type": "stream",
     "text": [
      "Extracted Word 1: journe\n",
      "Extracted Word 2: with a\n",
      "Remainder of the Phrase: and miles begins with a single step\n"
     ]
    }
   ],
   "source": [
    "phrase = \"A journey of a thousand miles begins with a single step\"\n",
    "\n",
    "\n",
    "part_one = phrase[2:8]          \n",
    "part_two = phrase[-18:-12]    \n",
    "remainder = phrase[20:]         \n",
    "\n",
    "print(\"Extracted Word 1:\", part_one)         \n",
    "print(\"Extracted Word 2:\", part_two)        \n",
    "print(\"Remainder of the Phrase:\", remainder)  \n"
   ]
  },
  {
   "cell_type": "markdown",
   "metadata": {},
   "source": [
    "### Popcorn hack 3 Removing Vowels"
   ]
  },
  {
   "cell_type": "code",
   "execution_count": 47,
   "metadata": {
    "vscode": {
     "languageId": "javascript"
    }
   },
   "outputs": [
    {
     "data": {
      "application/javascript": "function removeVowels(inputStr) {\n    const vowels = \"aeilouAEILOU\";\n    let result = \"\";\n\n    for (let char of inputStr) {\n        if (!vowels.includes(char)) {\n            result += char;\n        }\n    }\n    return result;\n}\n\nconst testSentence = \"Coding is an adventure full of surprises!\";\nconsole.log(removeVowels(testSentence));\n",
      "text/plain": [
       "<IPython.core.display.Javascript object>"
      ]
     },
     "metadata": {},
     "output_type": "display_data"
    }
   ],
   "source": [
    "%%js\n",
    "function removeVowels(inputStr) {\n",
    "    const vowels = \"aeilouAEILOU\";\n",
    "    let result = \"\";\n",
    "\n",
    "    for (let char of inputStr) {\n",
    "        if (!vowels.includes(char)) {\n",
    "            result += char;\n",
    "        }\n",
    "    }\n",
    "    return result;\n",
    "}\n",
    "\n",
    "const testSentence = \"Coding is an adventure full of surprises!\";\n",
    "console.log(removeVowels(testSentence));\n"
   ]
  },
  {
   "cell_type": "code",
   "execution_count": 31,
   "metadata": {},
   "outputs": [
    {
     "name": "stdout",
     "output_type": "stream",
     "text": [
      "rnng t cd cn b qt fn!\n"
     ]
    }
   ],
   "source": [
    "def remove_vowels(input_str):\n",
    "    vowels = \"aeilouAEILOU\"  # Define vowels to remove\n",
    "    # Use list comprehension to filter out vowels\n",
    "    result = ''.join([char for char in input_str if char not in vowels])\n",
    "    return result\n",
    "\n",
    "# Different sentence for testing\n",
    "test_sentence = \"Learning to code can be quite fun!\"\n",
    "# Call the function and print the result\n",
    "print(remove_vowels(test_sentence))\n"
   ]
  },
  {
   "cell_type": "markdown",
   "metadata": {},
   "source": [
    "### Reverse Order Popcorn Hack 4"
   ]
  },
  {
   "cell_type": "code",
   "execution_count": 63,
   "metadata": {
    "vscode": {
     "languageId": "javascript"
    }
   },
   "outputs": [
    {
     "data": {
      "application/javascript": "function reverseWords(inputStr) {\n    const words = inputStr.split(\" \");\n    const reversedWords = words.reverse().join(\" \");\n    return reversedWords;\n}\n\n\nconst sentence = \"JavaScript is a versatile language!\";\nconsole.log(reverseWords(sentence));\n",
      "text/plain": [
       "<IPython.core.display.Javascript object>"
      ]
     },
     "metadata": {},
     "output_type": "display_data"
    }
   ],
   "source": [
    "%%js\n",
    "function reverseWords(inputStr) {\n",
    "    const words = inputStr.split(\" \");\n",
    "    const reversedWords = words.reverse().join(\" \");\n",
    "    return reversedWords;\n",
    "}\n",
    "\n",
    "\n",
    "const sentence = \"JavaScript is a versatile language!\";\n",
    "console.log(reverseWords(sentence));\n"
   ]
  },
  {
   "cell_type": "code",
   "execution_count": 64,
   "metadata": {},
   "outputs": [
    {
     "name": "stdout",
     "output_type": "stream",
     "text": [
      "experience! rewarding a is Python Learning\n"
     ]
    }
   ],
   "source": [
    "def reverse_words(input_str):\n",
    "    words = input_str.split()\n",
    "    reversed_words = \" \".join(reversed(words))\n",
    "    return reversed_words\n",
    "\n",
    "sentence = \"Learning Python is a rewarding experience!\"\n",
    "print(reverse_words(sentence))\n"
   ]
  },
  {
   "cell_type": "markdown",
   "metadata": {},
   "source": [
    "## Overview of what I learned from the lesson\n",
    "### Popcorn Hack #1: Variable Definition and String Combination\n",
    "**Task**: Define three variables for a movie, a sport, and a pet's name, then combine them into a complete message using both concatenation and interpolation.  \n",
    "**What I Learned**: This hack taught me about string manipulation techniques and how to effectively combine strings in programming.\n",
    "\n",
    "---\n",
    "\n",
    "### Popcorn Hack #2: String Slicing\n",
    "**Task**: Use the `slice()` method to extract specific words from the string “A journey of a thousand miles begins with a single step.”  \n",
    "**What I Learned**: I learned how to manipulate strings with slicing, allowing for precise access to different parts of a string.\n",
    "\n",
    "---\n",
    "\n",
    "### Popcorn Hack #3: Removing Vowels\n",
    "**Task**: Create a function that removes all vowels from a given sentence, both uppercase and lowercase.  \n",
    "**What I Learned**: This hack enhanced my understanding of character filtering in strings using loops or list comprehensions.\n",
    "\n",
    "---\n",
    "\n",
    "### Popcorn Hack #4: Reversing the Order of Words\n",
    "**Task**: Reverse the order of words in a sentence without altering the characters within the words.  \n",
    "**What I Learned**: I learned about list and string manipulation by splitting, reversing, and joining elements, which is key for text data handling.\n",
    "\n",
    "---"
   ]
  },
  {
   "cell_type": "markdown",
   "metadata": {},
   "source": [
    "## Homework Hack 1"
   ]
  },
  {
   "cell_type": "code",
   "execution_count": 69,
   "metadata": {
    "vscode": {
     "languageId": "javascript"
    }
   },
   "outputs": [
    {
     "data": {
      "application/javascript": "function generateGreeting(firstName, lastName) {\n    if (!firstName || !lastName) {\n        throw new Error(\"Both first and last names are required!\");\n    }\n\n    let concatenatedGreeting = \"Hello, \" + firstName + \" \" + lastName + \"!\";\n    \n    let interpolatedGreeting = `Hello, ${firstName} ${lastName}!`;\n\n    return {\n        concatenated: concatenatedGreeting,\n        interpolated: interpolatedGreeting\n    };\n}\n\nfunction getUserInput() {\n    let firstName = prompt(\"Enter your first name:\");\n    let lastName = prompt(\"Enter your last name:\");\n\n    return { firstName, lastName };\n}\n\nfunction main() {\n    try {\n        const { firstName, lastName } = getUserInput();\n        const greetings = generateGreeting(firstName, lastName);\n\n        console.log(greetings.concatenated);  // Output: Hello, John Doe!\n        console.log(greetings.interpolated);   // Output: Hello, John Doe!\n    } catch (error) {\n        console.error(error.message);\n    }\n}\n\nmain();\n",
      "text/plain": [
       "<IPython.core.display.Javascript object>"
      ]
     },
     "metadata": {},
     "output_type": "display_data"
    }
   ],
   "source": [
    "%%js\n",
    "function generateGreeting(firstName, lastName) {\n",
    "    if (!firstName || !lastName) {\n",
    "        throw new Error(\"Both first and last names are required!\");\n",
    "    }\n",
    "\n",
    "    let concatenatedGreeting = \"Hello, \" + firstName + \" \" + lastName + \"!\";\n",
    "    \n",
    "    let interpolatedGreeting = `Hello, ${firstName} ${lastName}!`;\n",
    "\n",
    "    return {\n",
    "        concatenated: concatenatedGreeting,\n",
    "        interpolated: interpolatedGreeting\n",
    "    };\n",
    "}\n",
    "\n",
    "function getUserInput() {\n",
    "    let firstName = prompt(\"Enter your first name:\");\n",
    "    let lastName = prompt(\"Enter your last name:\");\n",
    "\n",
    "    return { firstName, lastName };\n",
    "}\n",
    "\n",
    "function main() {\n",
    "    try {\n",
    "        const { firstName, lastName } = getUserInput();\n",
    "        const greetings = generateGreeting(firstName, lastName);\n",
    "\n",
    "        console.log(greetings.concatenated);  // Output: Hello, John Doe!\n",
    "        console.log(greetings.interpolated);   // Output: Hello, John Doe!\n",
    "    } catch (error) {\n",
    "        console.error(error.message);\n",
    "    }\n",
    "}\n",
    "\n",
    "main();\n"
   ]
  },
  {
   "cell_type": "markdown",
   "metadata": {},
   "source": [
    "### Greeting Message Explanation\n",
    "\n",
    "Creating a greeting message like “Hello, [First Name] [Last Name]!” involves using **string concatenation** or **interpolation** to combine user input.\n",
    "\n",
    "### String Concatenation\n",
    "\n",
    "String concatenation involves joining multiple strings using the `+` operator. For example:\n",
    "```javascript\n",
    "let firstName = \"John\";\n",
    "let lastName = \"Doe\";\n",
    "let greeting = \"Hello, \" + firstName + \" \" + lastName + \"!\";\n"
   ]
  },
  {
   "cell_type": "markdown",
   "metadata": {},
   "source": [
    "## Homework Hack 2"
   ]
  },
  {
   "cell_type": "code",
   "execution_count": 70,
   "metadata": {},
   "outputs": [
    {
     "name": "stdout",
     "output_type": "stream",
     "text": [
      "\"1\" is a palindrome!\n"
     ]
    }
   ],
   "source": [
    "import string\n",
    "\n",
    "def is_palindrome(input_str):\n",
    "    # Normalize the string: convert to lowercase, remove spaces and punctuation\n",
    "    normalized_str = ''.join(char.lower() for char in input_str if char.isalnum())\n",
    "    \n",
    "    # Check if the normalized string is equal to its reverse\n",
    "    return normalized_str == normalized_str[::-1]\n",
    "\n",
    "def main():\n",
    "    user_input = input(\"Enter a string to check if it's a palindrome: \")\n",
    "    \n",
    "    if is_palindrome(user_input):\n",
    "        print(f'\"{user_input}\" is a palindrome!')\n",
    "    else:\n",
    "        print(f'\"{user_input}\" is not a palindrome.')\n",
    "\n",
    "# Execute the main function\n",
    "if __name__ == \"__main__\":\n",
    "    main()\n"
   ]
  },
  {
   "cell_type": "markdown",
   "metadata": {},
   "source": [
    "### Palindrome Explanation\n",
    "\n",
    "A **palindrome** is a word, phrase, or sequence that reads the same forwards and backwards, like \"level\" or \"A man, a plan, a canal, Panama!\" \n",
    "\n",
    "### Palindrome Checker\n",
    "\n",
    "A palindrome checker evaluates whether a string is a palindrome by:\n",
    "- Normalizing the input (lowercasing and removing non-alphanumeric characters).\n",
    "- Comparing the cleaned string with its reverse.\n",
    "\n",
    "This simple tool helps in text analysis and ensures accurate data validation.\n"
   ]
  }
 ],
 "metadata": {
  "kernelspec": {
   "display_name": "venv",
   "language": "python",
   "name": "python3"
  },
  "language_info": {
   "codemirror_mode": {
    "name": "ipython",
    "version": 3
   },
   "file_extension": ".py",
   "mimetype": "text/x-python",
   "name": "python",
   "nbconvert_exporter": "python",
   "pygments_lexer": "ipython3",
   "version": "3.12.5"
  }
 },
 "nbformat": 4,
 "nbformat_minor": 2
}
