{
 "cells": [
  {
   "cell_type": "raw",
   "metadata": {},
   "source": [
    "---\n",
    "layout: post\n",
    "title: My summary of all team lessons\n",
    "description: team teach summary\n",
    "courses: { csp: {week:1} }\n",
    "comments: true\n",
    "sticky_rank: 1\n",
    "---"
   ]
  },
  {
   "cell_type": "markdown",
   "metadata": {},
   "source": [
    "## "
   ]
  },
  {
   "cell_type": "markdown",
   "metadata": {},
   "source": [
    "<style>\n",
    "    body {\n",
    "        background-color: #2e3440;  /* Dark background */\n",
    "        color: white;               /* White text */\n",
    "    }\n",
    "    \n",
    "    div.code_cell {\n",
    "        background-color: #282a36;  /* Dark theme for code cells */\n",
    "        color: white;               /* White text for code cells */\n",
    "        border-radius: 10px;\n",
    "        padding: 10px;\n",
    "    }\n",
    "    \n",
    "    div.markdown_cell {\n",
    "        background-color: #44475a;  /* Dark theme for markdown cells */\n",
    "        color: white;               /* White text for markdown cells */\n",
    "        border-radius: 10px;\n",
    "        padding: 10px;\n",
    "    }\n",
    "    </style>"
   ]
  }
 ],
 "metadata": {
  "kernelspec": {
   "display_name": "venv",
   "language": "python",
   "name": "python3"
  },
  "language_info": {
   "codemirror_mode": {
    "name": "ipython",
    "version": 3
   },
   "file_extension": ".py",
   "mimetype": "text/x-python",
   "name": "python",
   "nbconvert_exporter": "python",
   "pygments_lexer": "ipython3",
   "version": "3.12.7"
  }
 },
 "nbformat": 4,
 "nbformat_minor": 2
}
